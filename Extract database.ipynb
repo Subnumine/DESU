{
 "cells": [
  {
   "cell_type": "code",
   "execution_count": null,
   "id": "192b274c",
   "metadata": {},
   "outputs": [],
   "source": [
    "import pandas as pd\n",
    "import tmdbsimple as tmdb\n",
    "import numpy as np\n",
    "tmdb.API_KEY = 'Clé personnel'"
   ]
  },
  {
   "cell_type": "code",
   "execution_count": null,
   "id": "c562909f",
   "metadata": {
    "scrolled": false
   },
   "outputs": [],
   "source": [
    "DF_col = ['TMDb_id', 'IMDB_id', 'Titre', 'Genre', \n",
    "          'Date', 'Pays', 'Runtime', 'Cast', 'Crew', \n",
    "          'Budget', 'Revenue', 'Popularity', 'Note', 'Nb_notes', 'Collection', \n",
    "          'Films_Collection', 'Keywords', 'Poster']\n",
    "\n",
    "DF = pd.DataFrame(columns=DF_col)\n",
    "\n",
    "for i in range(1000000):\n",
    "    mov = tmdb.Movies(i)\n",
    "    try : \n",
    "        response=mov.info()\n",
    "        Titre = mov.title\n",
    "        Budget = mov.budget\n",
    "        Revenue = mov.revenue\n",
    "        Genre = mov.genres\n",
    "        TMDb_id = mov.id\n",
    "        IMDb_id = mov.imdb_id\n",
    "        Runtime = mov.runtime\n",
    "        Date = mov.release_date\n",
    "        Pays = mov.production_companies[0]['origin_country']\n",
    "        Popularity = mov.popularity\n",
    "        Note = mov.vote_average\n",
    "        Nb_note = mov.vote_count\n",
    "        Statut = mov.status\n",
    "        Adult = mov.adult\n",
    "        Collection = mov.belongs_to_collection\n",
    "        Keywords = mov.keywords()['keywords']\n",
    "        Poster = 'https://image.tmdb.org/t/p/w185' + mov.poster_path\n",
    "        \n",
    "    except:\n",
    "        Titre = None\n",
    "        Budget = None\n",
    "        Revenue = None\n",
    "        Genre = None\n",
    "        TMDb_id = None\n",
    "        Runtime = None\n",
    "        Date = None\n",
    "        Pays = None\n",
    "        Note = None\n",
    "        Nb_note = None\n",
    "        Statut = None\n",
    "        Adult = None\n",
    "        Keywords = None\n",
    "    \n",
    "    if Nb_note != None:\n",
    "            if (Statut=='Released') & (Adult==False) & (Nb_note > 20):\n",
    "                response=mov.credits()\n",
    "                Cast = mov.cast\n",
    "                Crew = mov.crew\n",
    "                if Collection :\n",
    "                    Collection = mov.belongs_to_collection['name']\n",
    "                    id_collec = mov.belongs_to_collection['id']\n",
    "                    mov = tmdb.Collections(id_collec)\n",
    "                    response = mov.info()\n",
    "                    Films_Collection = mov.parts\n",
    "                else :\n",
    "                    Collection = np.nan\n",
    "                    Films_Collection = np.nan\n",
    "                    \n",
    "                All = [TMDb_id, IMDb_id, Titre, Genre, Date, Pays, Runtime, Cast, Crew, Budget, Revenue, Popularity, \n",
    "                       Note, Nb_note, Collection, Films_Collection, Keywords, Poster]\n",
    "                if Titre:\n",
    "                    DF.loc[len(DF)] = All\n",
    "    if i in np.arange(500, 1000000, 500):\n",
    "        print(i)\n",
    "        DF.to_csv('Data.csv', index=False)\n",
    "DF.to_csv('Data.csv', index=False)"
   ]
  }
 ],
 "metadata": {
  "kernelspec": {
   "display_name": "Python 3 (ipykernel)",
   "language": "python",
   "name": "python3"
  },
  "language_info": {
   "codemirror_mode": {
    "name": "ipython",
    "version": 3
   },
   "file_extension": ".py",
   "mimetype": "text/x-python",
   "name": "python",
   "nbconvert_exporter": "python",
   "pygments_lexer": "ipython3",
   "version": "3.9.12"
  }
 },
 "nbformat": 4,
 "nbformat_minor": 5
}
